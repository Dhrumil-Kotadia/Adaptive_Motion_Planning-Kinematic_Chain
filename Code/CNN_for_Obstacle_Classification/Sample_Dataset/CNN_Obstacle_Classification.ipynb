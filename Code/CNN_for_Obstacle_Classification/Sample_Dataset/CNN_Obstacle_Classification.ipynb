{
 "cells": [
  {
   "cell_type": "markdown",
   "id": "92724593",
   "metadata": {},
   "source": [
    "# 1. Install Required Libraries:"
   ]
  },
  {
   "cell_type": "code",
   "execution_count": null,
   "id": "cd11e5b8",
   "metadata": {},
   "outputs": [],
   "source": [
    "##1).Make sure you have TensorFlow and other necessary libraries installed. You can install them using:"
   ]
  },
  {
   "cell_type": "code",
   "execution_count": null,
   "id": "a4bbfa8e",
   "metadata": {},
   "outputs": [],
   "source": [
    "import tensorflow as tf\n",
    "from tensorflow.keras import layers, models\n",
    "from tensorflow.keras.preprocessing.image import ImageDataGenerator\n",
    "import numpy as np\n",
    "import matplotlib.pyplot as plt\n",
    "from tensorflow.keras.callbacks import ReduceLROnPlateau\n",
    "from tensorflow.keras.utils import plot_model"
   ]
  },
  {
   "cell_type": "markdown",
   "id": "189b6ad4",
   "metadata": {},
   "source": [
    "# Dataset Preparation:"
   ]
  },
  {
   "cell_type": "code",
   "execution_count": null,
   "id": "31f96c07",
   "metadata": {},
   "outputs": [],
   "source": [
    "##1).Organize your dataset into training and test sets and place them in the specified directories (Train_set and Test_set)."
   ]
  },
  {
   "cell_type": "markdown",
   "id": "ce633370",
   "metadata": {},
   "source": [
    "# Adjust File Paths:"
   ]
  },
  {
   "cell_type": "code",
   "execution_count": null,
   "id": "b63130f2",
   "metadata": {},
   "outputs": [],
   "source": [
    "##1).Replace the directory paths in the code with the paths to your actual dataset and the new image you want to predict \n",
    "#(new_image_path)."
   ]
  },
  {
   "cell_type": "markdown",
   "id": "4c66ccc5",
   "metadata": {},
   "source": [
    "# Class Labels:"
   ]
  },
  {
   "cell_type": "code",
   "execution_count": null,
   "id": "b1ad3764",
   "metadata": {},
   "outputs": [],
   "source": [
    "##1).Update the class names in the classes parameter for both train_generator and test_generator to match your specific \n",
    "#obstacle classes."
   ]
  },
  {
   "cell_type": "markdown",
   "id": "8a71d69e",
   "metadata": {},
   "source": [
    "# Run the Code:"
   ]
  },
  {
   "cell_type": "code",
   "execution_count": null,
   "id": "90ef17f7",
   "metadata": {},
   "outputs": [],
   "source": [
    "##1).Run the script in a Python environment. Ensure that your Python environment is properly set up."
   ]
  },
  {
   "cell_type": "markdown",
   "id": "9eadbe19",
   "metadata": {},
   "source": [
    "# Interpret Results:"
   ]
  },
  {
   "cell_type": "code",
   "execution_count": null,
   "id": "5ecdd5e3",
   "metadata": {},
   "outputs": [],
   "source": [
    "##1).Examine the training history plot for accuracy trends. The code will evaluate the model on the test set and print the \n",
    "#test accuracy.\n",
    "\n",
    "##2).For a new image (Map17.png in this case), the code will predict the obstacle class and suggest a sampling method and \n",
    "#number of nodes based on the predicted class."
   ]
  },
  {
   "cell_type": "markdown",
   "id": "2ae15e16",
   "metadata": {},
   "source": [
    "# Model Architecture Visualization:"
   ]
  },
  {
   "cell_type": "code",
   "execution_count": null,
   "id": "0f5f090b",
   "metadata": {},
   "outputs": [],
   "source": [
    "##1).The script generates a visual representation of the model architecture with colored legends for different layer types \n",
    "#(model_plot.png)."
   ]
  },
  {
   "cell_type": "code",
   "execution_count": null,
   "id": "689679fa",
   "metadata": {},
   "outputs": [],
   "source": [
    "##1).Note: Ensure that the necessary image files, directories, and paths are correctly specified. Adjust the parameters, \n",
    "#such as the number of epochs (epochs), as needed for your specific requirements."
   ]
  }
 ],
 "metadata": {
  "kernelspec": {
   "display_name": "Python 3 (ipykernel)",
   "language": "python",
   "name": "python3"
  },
  "language_info": {
   "codemirror_mode": {
    "name": "ipython",
    "version": 3
   },
   "file_extension": ".py",
   "mimetype": "text/x-python",
   "name": "python",
   "nbconvert_exporter": "python",
   "pygments_lexer": "ipython3",
   "version": "3.10.9"
  }
 },
 "nbformat": 4,
 "nbformat_minor": 5
}
